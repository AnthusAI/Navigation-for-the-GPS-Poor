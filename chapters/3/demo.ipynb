{
 "cells": [
  {
   "cell_type": "markdown",
   "metadata": {},
   "source": [
    "# Chapter 3: SLAM Fundamentals - Demo Notebook\n",
    "\n",
    "This notebook demonstrates a basic RGB-D SLAM system using the TUM dataset."
   ]
  },
  {
   "cell_type": "code",
   "execution_count": null,
   "metadata": {},
   "outputs": [],
   "source": [
    "import numpy as np\n",
    "import cv2\n",
    "import matplotlib.pyplot as plt\n",
    "from pathlib import Path\n",
    "import sys\n",
    "\n",
    "# Add src to path\n",
    "sys.path.insert(0, str(Path.cwd().parent.parent))\n",
    "\n",
    "from src.datasets import TUMDatasetFetcher\n",
    "from src.slam import RGBDSlam\n",
    "from src.utils import plot_trajectory\n",
    "\n",
    "%matplotlib inline"
   ]
  },
  {
   "cell_type": "markdown",
   "metadata": {},
   "source": [
    "## Step 1: Load the TUM RGB-D Dataset\n",
    "\n",
    "We'll use the `fr1/desk` sequence, which shows a handheld camera moving around an office desk."
   ]
  },
  {
   "cell_type": "code",
   "execution_count": null,
   "metadata": {},
   "outputs": [],
   "source": [
    "# Initialize dataset fetcher\n",
    "fetcher = TUMDatasetFetcher('../../data')\n",
    "sequence = 'fr1/desk'\n",
    "\n",
    "# Download if needed (will skip if already downloaded)\n",
    "seq_path = fetcher.download_sequence(sequence)\n",
    "print(f\"Dataset path: {seq_path}\")\n",
    "\n",
    "# Load data\n",
    "timestamps, rgb_paths, depth_paths = fetcher.load_associations(sequence)\n",
    "gt_timestamps, gt_poses = fetcher.load_poses(sequence)\n",
    "K = fetcher.get_camera_intrinsics(sequence)\n",
    "\n",
    "print(f\"Found {len(rgb_paths)} RGB-D pairs\")\n",
    "print(f\"Camera intrinsics:\\n{K}\")"
   ]
  },
  {
   "cell_type": "markdown",
   "metadata": {},
   "source": [
    "## Step 2: Visualize Sample Data"
   ]
  },
  {
   "cell_type": "code",
   "execution_count": null,
   "metadata": {},
   "outputs": [],
   "source": [
    "# Load a sample frame\n",
    "idx = 100\n",
    "rgb = cv2.imread(rgb_paths[idx])\n",
    "rgb = cv2.cvtColor(rgb, cv2.COLOR_BGR2RGB)\n",
    "depth = cv2.imread(depth_paths[idx], cv2.IMREAD_UNCHANGED)\n",
    "depth_meters = depth.astype(np.float32) / 5000.0\n",
    "\n",
    "# Visualize\n",
    "fig, axes = plt.subplots(1, 2, figsize=(14, 5))\n",
    "\n",
    "axes[0].imshow(rgb)\n",
    "axes[0].set_title('RGB Image', fontsize=14)\n",
    "axes[0].axis('off')\n",
    "\n",
    "depth_vis = depth_meters.copy()\n",
    "depth_vis[depth_vis == 0] = np.nan\n",
    "im = axes[1].imshow(depth_vis, cmap='plasma', vmin=0, vmax=4.0)\n",
    "axes[1].set_title('Depth Map', fontsize=14)\n",
    "axes[1].axis('off')\n",
    "plt.colorbar(im, ax=axes[1], fraction=0.046, label='Depth (m)')\n",
    "\n",
    "plt.tight_layout()\n",
    "plt.show()"
   ]
  },
  {
   "cell_type": "markdown",
   "metadata": {},
   "source": [
    "## Step 3: Initialize SLAM System"
   ]
  },
  {
   "cell_type": "code",
   "execution_count": null,
   "metadata": {},
   "outputs": [],
   "source": [
    "# Initialize SLAM\n",
    "slam = RGBDSlam(\n",
    "    camera_matrix=K,\n",
    "    detector_type='ORB',\n",
    "    max_features=1000,\n",
    "    loop_closure_threshold=0.5\n",
    ")\n",
    "\n",
    "print(\"SLAM system initialized\")"
   ]
  },
  {
   "cell_type": "markdown",
   "metadata": {},
   "source": [
    "## Step 4: Run SLAM"
   ]
  },
  {
   "cell_type": "code",
   "execution_count": null,
   "metadata": {},
   "outputs": [],
   "source": [
    "# Process sequence\n",
    "estimated_poses = slam.process_sequence(rgb_paths, depth_paths, max_frames=200)\n",
    "\n",
    "print(f\"\\nProcessed {len(estimated_poses)} frames\")\n",
    "stats = slam.get_statistics()\n",
    "for key, value in stats.items():\n",
    "    print(f\"  {key}: {value}\")"
   ]
  },
  {
   "cell_type": "markdown",
   "metadata": {},
   "source": [
    "## Step 5: Visualize Results"
   ]
  },
  {
   "cell_type": "code",
   "execution_count": null,
   "metadata": {},
   "outputs": [],
   "source": [
    "# Match ground truth\n",
    "gt_poses_matched = []\n",
    "for i in range(len(estimated_poses)):\n",
    "    ts = timestamps[i]\n",
    "    idx = np.argmin(np.abs(gt_timestamps - ts))\n",
    "    gt_poses_matched.append(gt_poses[idx])\n",
    "\n",
    "gt_poses_matched = np.array(gt_poses_matched)\n",
    "\n",
    "# Plot\n",
    "plot_trajectory(estimated_poses, gt_poses_matched, \"SLAM Trajectory\")\n",
    "plt.show()"
   ]
  }
 ],
 "metadata": {
  "kernelspec": {
   "display_name": "navigation-gps-poor",
   "language": "python",
   "name": "python3"
  },
  "language_info": {
   "name": "python",
   "version": "3.11.13"
  }
 },
 "nbformat": 4,
 "nbformat_minor": 2
}
